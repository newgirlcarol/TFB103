{
  "nbformat": 4,
  "nbformat_minor": 0,
  "metadata": {
    "kernelspec": {
      "display_name": "Python 3",
      "language": "python",
      "name": "python3"
    },
    "language_info": {
      "codemirror_mode": {
        "name": "ipython",
        "version": 3
      },
      "file_extension": ".py",
      "mimetype": "text/x-python",
      "name": "python",
      "nbconvert_exporter": "python",
      "pygments_lexer": "ipython3",
      "version": "3.7.3"
    },
    "colab": {
      "name": "04-李昀諭(CNN)",
      "provenance": [],
      "include_colab_link": true
    },
    "accelerator": "GPU"
  },
  "cells": [
    {
      "cell_type": "markdown",
      "metadata": {
        "id": "view-in-github",
        "colab_type": "text"
      },
      "source": [
        "<a href=\"https://colab.research.google.com/github/newgirlcarol/TFB103/blob/main/04_%E6%9D%8E%E6%98%80%E8%AB%AD(CNN).ipynb\" target=\"_parent\"><img src=\"https://colab.research.google.com/assets/colab-badge.svg\" alt=\"Open In Colab\"/></a>"
      ]
    },
    {
      "cell_type": "markdown",
      "metadata": {
        "id": "7_89lntSIAGJ"
      },
      "source": [
        "#### 1. Original code >> Accuracy = 95.75%\n",
        "> 3 層 Conv2D (16, 32, 64) w/ size=3x3, padding = same \\\n",
        "> epochs 12 tims \\\n",
        "> Optimizer = SGD\n",
        "#### 2. First change >> Accuracy = 10.32%\n",
        "> 2 層 Conv2D (32, 64) w/ seze=3x3, padding = valid \\\n",
        "> epochs 10 tims \\\n",
        "> Optimizer = Adam\n",
        "#### 3. Second change >> Accuracy = 97.69%\n",
        "> 4 層 Conv2D (16, 32, 64, 128) w/ size=5x5, padding = same \\\n",
        "> epochs 10 tims \\\n",
        "> Optimizer = SGD(lr=0.2) \\\n",
        " \n",
        "    小結: 多增加一層Conv. 且kernal size 改為5x5 有提高準確率; 只用兩層且一開始設32個filter並將優化器改用Adam,準確率顯著較低。\n"
      ]
    },
    {
      "cell_type": "code",
      "metadata": {
        "id": "ppPLqSluwFNX"
      },
      "source": [
        "%matplotlib inline\n",
        "\n",
        "import numpy as np\n",
        "import matplotlib.pyplot as plt\n",
        "import pandas as pd"
      ],
      "execution_count": 1,
      "outputs": []
    },
    {
      "cell_type": "code",
      "metadata": {
        "id": "9ei6Vpv5wFNq"
      },
      "source": [
        "from tensorflow.keras.utils import to_categorical\n",
        "from tensorflow.keras.models import Sequential\n",
        "from tensorflow.keras.layers import Conv2D, MaxPooling2D\n",
        "from tensorflow.keras.layers import Dense, Flatten # CNN ConV transfrom to Dense layer need flatten\n",
        "from tensorflow.keras.optimizers import SGD, RMSprop, Adam"
      ],
      "execution_count": 2,
      "outputs": []
    },
    {
      "cell_type": "markdown",
      "metadata": {
        "id": "ULBxdD6HwFNw"
      },
      "source": [
        "### 1. 讀入 MNSIT 數據集"
      ]
    },
    {
      "cell_type": "code",
      "metadata": {
        "id": "aSUJ3Vj_wFN3"
      },
      "source": [
        "from tensorflow.keras.datasets import mnist"
      ],
      "execution_count": 3,
      "outputs": []
    },
    {
      "cell_type": "code",
      "metadata": {
        "id": "Rr7A504YwFN6"
      },
      "source": [
        "(x_train, y_train), (x_test, y_test) = mnist.load_data()"
      ],
      "execution_count": 4,
      "outputs": []
    },
    {
      "cell_type": "markdown",
      "metadata": {
        "id": "uxcn6JXRwFN-"
      },
      "source": [
        "### 2. 資料整理"
      ]
    },
    {
      "cell_type": "markdown",
      "metadata": {
        "id": "zfXuS0tRwFOB"
      },
      "source": [
        "### Channel\n",
        "\n",
        "CNN 要注意一張圖有多少個 channel, 開始我們因為只有 **灰階**, 所以只有一個 channel。因此我們要轉一下我們的資料格式:\n",
        "\n",
        "    (28,28) --> (28, 28, 1)"
      ]
    },
    {
      "cell_type": "code",
      "metadata": {
        "id": "8NMDc9nRwFOE"
      },
      "source": [
        "x_train = x_train.reshape(60000, 28, 28, 1) / 255"
      ],
      "execution_count": 5,
      "outputs": []
    },
    {
      "cell_type": "code",
      "metadata": {
        "id": "z4ZlNGPswFOI"
      },
      "source": [
        "x_test = x_test.reshape(10000, 28, 28, 1) / 255"
      ],
      "execution_count": 6,
      "outputs": []
    },
    {
      "cell_type": "code",
      "metadata": {
        "id": "BzTQgwtkwFOM"
      },
      "source": [
        "y_train = to_categorical(y_train, 10)\n",
        "y_test = to_categorical(y_test, 10)"
      ],
      "execution_count": 7,
      "outputs": []
    },
    {
      "cell_type": "markdown",
      "metadata": {
        "id": "x4syU6SCwFOP"
      },
      "source": [
        "### 3. step 1: 打造函數學習機 (CNN)"
      ]
    },
    {
      "cell_type": "code",
      "metadata": {
        "id": "ypfywdHDwFOX"
      },
      "source": [
        "# Sample from Tr. Yenlung\n",
        "model = Sequential()\n",
        "model.add(Conv2D(16, (3,3), padding='same', # 16 個 3x3 大小的filter\n",
        "                input_shape=(28,28,1),\n",
        "                activation='relu'))\n",
        "\n",
        "model.add(MaxPooling2D(pool_size=(2,2)))\n",
        "model.add(Conv2D(32, (3,3), padding='same', # 一樣大小的filter，但filter個數增加2的倍數\n",
        "                activation='relu'))\n",
        "\n",
        "model.add(MaxPooling2D(pool_size=(2,2)))\n",
        "model.add(Conv2D(64, (3,3), padding='same',\n",
        "                activation='relu'))\n",
        "model.add(MaxPooling2D(pool_size=(2,2)))\n",
        "model.add(Flatten())\n",
        "model.add(Dense(54, activation='relu'))\n",
        "model.add(Dense(10, activation='softmax'))"
      ],
      "execution_count": 8,
      "outputs": []
    },
    {
      "cell_type": "code",
      "metadata": {
        "id": "-bxDlaMF3qwa"
      },
      "source": [
        "# Practice_1 移調16個的filter & padding = 'Valid' \n",
        "model_valid = Sequential()\n",
        "model_valid.add(Conv2D(32, (3,3), padding='valid', \n",
        "                input_shape=(28,28,1),\n",
        "                activation='relu'))\n",
        "\n",
        "model_valid.add(MaxPooling2D(pool_size=(2,2)))\n",
        "model_valid.add(Conv2D(64, (3,3), padding='valid', \n",
        "                activation='relu'))\n",
        "\n",
        "model_valid.add(MaxPooling2D(pool_size=(2,2)))\n",
        "\n",
        "model_valid.add(Flatten())\n",
        "model_valid.add(Dense(54, activation='relu'))\n",
        "model_valid.add(Dense(10, activation='softmax'))"
      ],
      "execution_count": 9,
      "outputs": []
    },
    {
      "cell_type": "code",
      "metadata": {
        "id": "Pb5gs_PsAoO8"
      },
      "source": [
        "# Practice_2 改變add one more filter & padding = 'same' \n",
        "model_dense = Sequential()\n",
        "model_dense.add(Conv2D(16, (5,5), padding='same',\n",
        "                input_shape=(28,28,1),\n",
        "                activation='relu'))\n",
        "model_dense.add(MaxPooling2D(pool_size=(2,2)))\n",
        "\n",
        "model_dense.add(Conv2D(32, (5,5), padding='same',\n",
        "                activation='relu'))\n",
        "model_dense.add(MaxPooling2D(pool_size=(2,2)))\n",
        "\n",
        "model_dense.add(Conv2D(64, (5,5), padding='same', \n",
        "                activation='relu'))\n",
        "model_dense.add(MaxPooling2D(pool_size=(2,2)))\n",
        "\n",
        "model_dense.add(Conv2D(128, (5,5), padding='same', \n",
        "                activation='relu'))\n",
        "model_dense.add(MaxPooling2D(pool_size=(2,2)))\n",
        "\n",
        "model_dense.add(Flatten())\n",
        "model_dense.add(Dense(54, activation='relu'))\n",
        "model_dense.add(Dense(10, activation='softmax'))"
      ],
      "execution_count": 10,
      "outputs": []
    },
    {
      "cell_type": "markdown",
      "metadata": {
        "id": "qNGEMnXUwFOr"
      },
      "source": [
        "#### 看一下我們的神經網路"
      ]
    },
    {
      "cell_type": "code",
      "metadata": {
        "id": "LdjYOTt8wFOr",
        "colab": {
          "base_uri": "https://localhost:8080/"
        },
        "outputId": "7544f7e1-eb83-41b3-8489-8850784aa44f"
      },
      "source": [
        "model.summary()\n",
        "print()\n",
        "model_valid.summary()\n",
        "print()\n",
        "model_dense.summary()"
      ],
      "execution_count": 11,
      "outputs": [
        {
          "output_type": "stream",
          "name": "stdout",
          "text": [
            "Model: \"sequential\"\n",
            "_________________________________________________________________\n",
            "Layer (type)                 Output Shape              Param #   \n",
            "=================================================================\n",
            "conv2d (Conv2D)              (None, 28, 28, 16)        160       \n",
            "_________________________________________________________________\n",
            "max_pooling2d (MaxPooling2D) (None, 14, 14, 16)        0         \n",
            "_________________________________________________________________\n",
            "conv2d_1 (Conv2D)            (None, 14, 14, 32)        4640      \n",
            "_________________________________________________________________\n",
            "max_pooling2d_1 (MaxPooling2 (None, 7, 7, 32)          0         \n",
            "_________________________________________________________________\n",
            "conv2d_2 (Conv2D)            (None, 7, 7, 64)          18496     \n",
            "_________________________________________________________________\n",
            "max_pooling2d_2 (MaxPooling2 (None, 3, 3, 64)          0         \n",
            "_________________________________________________________________\n",
            "flatten (Flatten)            (None, 576)               0         \n",
            "_________________________________________________________________\n",
            "dense (Dense)                (None, 54)                31158     \n",
            "_________________________________________________________________\n",
            "dense_1 (Dense)              (None, 10)                550       \n",
            "=================================================================\n",
            "Total params: 55,004\n",
            "Trainable params: 55,004\n",
            "Non-trainable params: 0\n",
            "_________________________________________________________________\n",
            "\n",
            "Model: \"sequential_1\"\n",
            "_________________________________________________________________\n",
            "Layer (type)                 Output Shape              Param #   \n",
            "=================================================================\n",
            "conv2d_3 (Conv2D)            (None, 26, 26, 32)        320       \n",
            "_________________________________________________________________\n",
            "max_pooling2d_3 (MaxPooling2 (None, 13, 13, 32)        0         \n",
            "_________________________________________________________________\n",
            "conv2d_4 (Conv2D)            (None, 11, 11, 64)        18496     \n",
            "_________________________________________________________________\n",
            "max_pooling2d_4 (MaxPooling2 (None, 5, 5, 64)          0         \n",
            "_________________________________________________________________\n",
            "flatten_1 (Flatten)          (None, 1600)              0         \n",
            "_________________________________________________________________\n",
            "dense_2 (Dense)              (None, 54)                86454     \n",
            "_________________________________________________________________\n",
            "dense_3 (Dense)              (None, 10)                550       \n",
            "=================================================================\n",
            "Total params: 105,820\n",
            "Trainable params: 105,820\n",
            "Non-trainable params: 0\n",
            "_________________________________________________________________\n",
            "\n",
            "Model: \"sequential_2\"\n",
            "_________________________________________________________________\n",
            "Layer (type)                 Output Shape              Param #   \n",
            "=================================================================\n",
            "conv2d_5 (Conv2D)            (None, 28, 28, 16)        416       \n",
            "_________________________________________________________________\n",
            "max_pooling2d_5 (MaxPooling2 (None, 14, 14, 16)        0         \n",
            "_________________________________________________________________\n",
            "conv2d_6 (Conv2D)            (None, 14, 14, 32)        12832     \n",
            "_________________________________________________________________\n",
            "max_pooling2d_6 (MaxPooling2 (None, 7, 7, 32)          0         \n",
            "_________________________________________________________________\n",
            "conv2d_7 (Conv2D)            (None, 7, 7, 64)          51264     \n",
            "_________________________________________________________________\n",
            "max_pooling2d_7 (MaxPooling2 (None, 3, 3, 64)          0         \n",
            "_________________________________________________________________\n",
            "conv2d_8 (Conv2D)            (None, 3, 3, 128)         204928    \n",
            "_________________________________________________________________\n",
            "max_pooling2d_8 (MaxPooling2 (None, 1, 1, 128)         0         \n",
            "_________________________________________________________________\n",
            "flatten_2 (Flatten)          (None, 128)               0         \n",
            "_________________________________________________________________\n",
            "dense_4 (Dense)              (None, 54)                6966      \n",
            "_________________________________________________________________\n",
            "dense_5 (Dense)              (None, 10)                550       \n",
            "=================================================================\n",
            "Total params: 276,956\n",
            "Trainable params: 276,956\n",
            "Non-trainable params: 0\n",
            "_________________________________________________________________\n"
          ]
        }
      ]
    },
    {
      "cell_type": "markdown",
      "metadata": {
        "id": "OGEm2qJ9wFOz"
      },
      "source": [
        "#### 組裝"
      ]
    },
    {
      "cell_type": "code",
      "metadata": {
        "id": "7J5t4fIpwFO1",
        "colab": {
          "base_uri": "https://localhost:8080/"
        },
        "outputId": "83d79bd8-9954-4014-ff04-0f7278146631"
      },
      "source": [
        "# model_valid w/ Adam\n",
        "model.compile(loss='mse', optimizer=SGD(lr=0.087),\n",
        "             metrics=['accuracy'])\n",
        "\n",
        "model_valid.compile(loss='mse', optimizer=Adam(lr=0.087),\n",
        "             metrics=['accuracy'])\n",
        "\n",
        "model_dense.compile(loss='mse', optimizer=SGD(lr=0.2),\n",
        "             metrics=['accuracy'])\n"
      ],
      "execution_count": 12,
      "outputs": [
        {
          "output_type": "stream",
          "name": "stderr",
          "text": [
            "/usr/local/lib/python3.7/dist-packages/keras/optimizer_v2/optimizer_v2.py:356: UserWarning: The `lr` argument is deprecated, use `learning_rate` instead.\n",
            "  \"The `lr` argument is deprecated, use `learning_rate` instead.\")\n"
          ]
        }
      ]
    },
    {
      "cell_type": "markdown",
      "metadata": {
        "id": "LTfNuYc3wFO4"
      },
      "source": [
        "### 4. step 2: fit"
      ]
    },
    {
      "cell_type": "code",
      "metadata": {
        "scrolled": true,
        "id": "Zxeonw9YwFO6",
        "colab": {
          "base_uri": "https://localhost:8080/"
        },
        "outputId": "6bc5121e-7e01-426f-c652-46ab3e98922e"
      },
      "source": [
        "# I change epoch w/ 10 times\n",
        "model.fit(x_train, y_train, batch_size=128, epochs=12)\n",
        "\n",
        "model_valid.fit(x_train, y_train, batch_size=128, epochs=10)\n",
        "\n",
        "model_dense.fit(x_train, y_train, batch_size=128, epochs=10)"
      ],
      "execution_count": 13,
      "outputs": [
        {
          "output_type": "stream",
          "name": "stdout",
          "text": [
            "Epoch 1/12\n",
            "469/469 [==============================] - 10s 9ms/step - loss: 0.0898 - accuracy: 0.1040\n",
            "Epoch 2/12\n",
            "469/469 [==============================] - 4s 8ms/step - loss: 0.0894 - accuracy: 0.1924\n",
            "Epoch 3/12\n",
            "469/469 [==============================] - 4s 8ms/step - loss: 0.0887 - accuracy: 0.3388\n",
            "Epoch 4/12\n",
            "469/469 [==============================] - 4s 8ms/step - loss: 0.0858 - accuracy: 0.4906\n",
            "Epoch 5/12\n",
            "469/469 [==============================] - 4s 8ms/step - loss: 0.0541 - accuracy: 0.6552\n",
            "Epoch 6/12\n",
            "469/469 [==============================] - 4s 8ms/step - loss: 0.0231 - accuracy: 0.8535\n",
            "Epoch 7/12\n",
            "469/469 [==============================] - 4s 8ms/step - loss: 0.0152 - accuracy: 0.9029\n",
            "Epoch 8/12\n",
            "469/469 [==============================] - 4s 8ms/step - loss: 0.0119 - accuracy: 0.9241\n",
            "Epoch 9/12\n",
            "469/469 [==============================] - 4s 9ms/step - loss: 0.0100 - accuracy: 0.9352\n",
            "Epoch 10/12\n",
            "469/469 [==============================] - 4s 9ms/step - loss: 0.0087 - accuracy: 0.9440\n",
            "Epoch 11/12\n",
            "469/469 [==============================] - 4s 8ms/step - loss: 0.0078 - accuracy: 0.9498\n",
            "Epoch 12/12\n",
            "469/469 [==============================] - 4s 8ms/step - loss: 0.0071 - accuracy: 0.9549\n",
            "Epoch 1/10\n",
            "469/469 [==============================] - 5s 9ms/step - loss: 0.1799 - accuracy: 0.0994\n",
            "Epoch 2/10\n",
            "469/469 [==============================] - 4s 8ms/step - loss: 0.1801 - accuracy: 0.0993\n",
            "Epoch 3/10\n",
            "469/469 [==============================] - 4s 8ms/step - loss: 0.1801 - accuracy: 0.0993\n",
            "Epoch 4/10\n",
            "469/469 [==============================] - 4s 8ms/step - loss: 0.1801 - accuracy: 0.0993\n",
            "Epoch 5/10\n",
            "469/469 [==============================] - 4s 8ms/step - loss: 0.1801 - accuracy: 0.0993\n",
            "Epoch 6/10\n",
            "469/469 [==============================] - 4s 8ms/step - loss: 0.1801 - accuracy: 0.0993\n",
            "Epoch 7/10\n",
            "469/469 [==============================] - 4s 8ms/step - loss: 0.1801 - accuracy: 0.0993\n",
            "Epoch 8/10\n",
            "469/469 [==============================] - 4s 8ms/step - loss: 0.1801 - accuracy: 0.0993\n",
            "Epoch 9/10\n",
            "469/469 [==============================] - 4s 8ms/step - loss: 0.1801 - accuracy: 0.0993\n",
            "Epoch 10/10\n",
            "469/469 [==============================] - 4s 8ms/step - loss: 0.1801 - accuracy: 0.0993\n",
            "Epoch 1/10\n",
            "469/469 [==============================] - 7s 13ms/step - loss: 0.0897 - accuracy: 0.2272\n",
            "Epoch 2/10\n",
            "469/469 [==============================] - 6s 13ms/step - loss: 0.0866 - accuracy: 0.4418\n",
            "Epoch 3/10\n",
            "469/469 [==============================] - 6s 13ms/step - loss: 0.0307 - accuracy: 0.7953\n",
            "Epoch 4/10\n",
            "469/469 [==============================] - 6s 12ms/step - loss: 0.0105 - accuracy: 0.9341\n",
            "Epoch 5/10\n",
            "469/469 [==============================] - 6s 12ms/step - loss: 0.0072 - accuracy: 0.9544\n",
            "Epoch 6/10\n",
            "469/469 [==============================] - 6s 12ms/step - loss: 0.0058 - accuracy: 0.9641\n",
            "Epoch 7/10\n",
            "469/469 [==============================] - 6s 12ms/step - loss: 0.0050 - accuracy: 0.9690\n",
            "Epoch 8/10\n",
            "469/469 [==============================] - 6s 12ms/step - loss: 0.0043 - accuracy: 0.9730\n",
            "Epoch 9/10\n",
            "469/469 [==============================] - 6s 12ms/step - loss: 0.0040 - accuracy: 0.9748\n",
            "Epoch 10/10\n",
            "469/469 [==============================] - 6s 13ms/step - loss: 0.0036 - accuracy: 0.9771\n"
          ]
        },
        {
          "output_type": "execute_result",
          "data": {
            "text/plain": [
              "<keras.callbacks.History at 0x7f6df0fd07d0>"
            ]
          },
          "metadata": {},
          "execution_count": 13
        }
      ]
    },
    {
      "cell_type": "markdown",
      "metadata": {
        "id": "QdX6CV79wFO8"
      },
      "source": [
        "### Step 3. 預測"
      ]
    },
    {
      "cell_type": "code",
      "metadata": {
        "id": "_6kZQJUzzz7-"
      },
      "source": [
        "predict_x=model.predict(x_test) \n",
        "result = np.argmax(predict_x, axis=1)\n",
        "\n",
        "predict_new=model_valid.predict(x_test) \n",
        "result = np.argmax(predict_new, axis=1)\n",
        "\n",
        "predict_dense=model_dense.predict(x_test) \n",
        "result = np.argmax(predict_dense, axis=1)"
      ],
      "execution_count": 14,
      "outputs": []
    },
    {
      "cell_type": "markdown",
      "metadata": {
        "id": "7TueDTxwwFPA"
      },
      "source": [
        "### 看看測試資料表現如何"
      ]
    },
    {
      "cell_type": "code",
      "metadata": {
        "id": "P5ch_dUGwFPD",
        "colab": {
          "base_uri": "https://localhost:8080/"
        },
        "outputId": "63ca5879-2671-492b-9fe2-ea49d151ebdc"
      },
      "source": [
        "# Original\n",
        "loss, acc = model.evaluate(x_test, y_test)\n",
        "# change padding=valid and filter \n",
        "loss_new, acc_new = model_valid.evaluate(x_test, y_test)\n",
        "# \n",
        "loss_new, acc_dense = model_dense.evaluate(x_test, y_test)"
      ],
      "execution_count": 15,
      "outputs": [
        {
          "output_type": "stream",
          "name": "stdout",
          "text": [
            "313/313 [==============================] - 1s 3ms/step - loss: 0.0066 - accuracy: 0.9575\n",
            "313/313 [==============================] - 1s 3ms/step - loss: 0.1794 - accuracy: 0.1032\n",
            "313/313 [==============================] - 1s 4ms/step - loss: 0.0035 - accuracy: 0.9769\n"
          ]
        }
      ]
    },
    {
      "cell_type": "code",
      "metadata": {
        "id": "-lWtLgmKwFPF",
        "colab": {
          "base_uri": "https://localhost:8080/"
        },
        "outputId": "9372650f-1e8d-48b4-da1a-6e4cee87331c"
      },
      "source": [
        "print(f'老師版的資料的正確率為 {acc*100:.2f}%')\n",
        "print(f'學生P1版的資料的正確率為 {acc_new*100:.2f}%')\n",
        "print(f'學生P2版的資料的正確率為 {acc_dense*100:.2f}%')"
      ],
      "execution_count": 16,
      "outputs": [
        {
          "output_type": "stream",
          "name": "stdout",
          "text": [
            "老師版的資料的正確率為 95.75%\n",
            "學生P1版的資料的正確率為 10.32%\n",
            "學生P2版的資料的正確率為 97.69%\n"
          ]
        }
      ]
    },
    {
      "cell_type": "code",
      "metadata": {
        "id": "s1Mw-AZuwFPJ"
      },
      "source": [
        "# def my_predict(n):\n",
        "#     print('我可愛的 CNN 預測是', result[n])\n",
        "#     X = x_test[n].reshape(28,28)\n",
        "#     plt.imshow(X, cmap='Greys')"
      ],
      "execution_count": 17,
      "outputs": []
    },
    {
      "cell_type": "code",
      "metadata": {
        "id": "DC8R_V0TwFPL"
      },
      "source": [
        "# from ipywidgets import interact_manual"
      ],
      "execution_count": 18,
      "outputs": []
    },
    {
      "cell_type": "code",
      "metadata": {
        "id": "P7rG1XitwFPN"
      },
      "source": [
        "# interact_manual(my_predict, n=(0, 9999));"
      ],
      "execution_count": 19,
      "outputs": []
    },
    {
      "cell_type": "markdown",
      "metadata": {
        "id": "JFdfkm2ZwFPP"
      },
      "source": [
        "### 把我們的 model 存起來"
      ]
    },
    {
      "cell_type": "code",
      "metadata": {
        "id": "O_pNqrpewFPS"
      },
      "source": [
        "# model.save('myCNNmodel.h5')z"
      ],
      "execution_count": 20,
      "outputs": []
    }
  ]
}