{
  "nbformat": 4,
  "nbformat_minor": 0,
  "metadata": {
    "colab": {
      "name": "mnist_convnet",
      "provenance": [],
      "collapsed_sections": [],
      "include_colab_link": true
    },
    "kernelspec": {
      "display_name": "Python 3",
      "language": "python",
      "name": "python3"
    },
    "language_info": {
      "codemirror_mode": {
        "name": "ipython",
        "version": 3
      },
      "file_extension": ".py",
      "mimetype": "text/x-python",
      "name": "python",
      "nbconvert_exporter": "python",
      "pygments_lexer": "ipython3",
      "version": "3.7.0"
    },
    "accelerator": "GPU"
  },
  "cells": [
    {
      "cell_type": "markdown",
      "metadata": {
        "id": "view-in-github",
        "colab_type": "text"
      },
      "source": [
        "<a href=\"https://colab.research.google.com/github/newgirlcarol/TFB103/blob/main/examples/vision/ipynb/mnist_convnet.ipynb\" target=\"_parent\"><img src=\"https://colab.research.google.com/assets/colab-badge.svg\" alt=\"Open In Colab\"/></a>"
      ]
    },
    {
      "cell_type": "markdown",
      "metadata": {
        "id": "mgBcYqmGD79e"
      },
      "source": [
        "# Simple MNIST convnet\n",
        "\n",
        "**Author:** [fchollet](https://twitter.com/fchollet)<br>\n",
        "**Date created:** 2015/06/19<br>\n",
        "**Last modified:** 2020/04/21<br>\n",
        "**Description:** A simple convnet that achieves ~99% test accuracy on MNIST."
      ]
    },
    {
      "cell_type": "markdown",
      "metadata": {
        "id": "uNlpuLYxD79j"
      },
      "source": [
        "## Setup"
      ]
    },
    {
      "cell_type": "code",
      "metadata": {
        "id": "1YihyJnyD79k"
      },
      "source": [
        "import numpy as np\n",
        "from tensorflow import keras\n",
        "from tensorflow.keras import layers"
      ],
      "execution_count": 1,
      "outputs": []
    },
    {
      "cell_type": "markdown",
      "metadata": {
        "id": "cr1SSnwqD79m"
      },
      "source": [
        "## Prepare the data"
      ]
    },
    {
      "cell_type": "code",
      "metadata": {
        "colab": {
          "base_uri": "https://localhost:8080/"
        },
        "id": "hdlz3eZtD79m",
        "outputId": "bdb99dad-d044-42ae-de30-a7d958e427cd"
      },
      "source": [
        "# Model / data parameters\n",
        "num_classes = 10\n",
        "input_shape = (28, 28, 1)\n",
        "batch_size = 128\n",
        "epochs = 10\n",
        "\n",
        "# the data, split between train and test sets\n",
        "(x_train, y_train), (x_test, y_test) = keras.datasets.mnist.load_data()\n",
        "\n",
        "# Scale images to the [0, 1] range\n",
        "x_train = x_train.astype(\"float32\") / 255\n",
        "x_test = x_test.astype(\"float32\") / 255\n",
        "# Make sure images have shape (28, 28, 1)\n",
        "x_train = np.expand_dims(x_train, -1)\n",
        "x_test = np.expand_dims(x_test, -1)\n",
        "print(\"x_train shape:\", x_train.shape)\n",
        "print(x_train.shape[0], \"train samples\")\n",
        "print(x_test.shape[0], \"test samples\")\n",
        "\n",
        "\n",
        "# convert class vectors to binary class matrices\n",
        "y_train = keras.utils.to_categorical(y_train, num_classes)\n",
        "y_test = keras.utils.to_categorical(y_test, num_classes)"
      ],
      "execution_count": 4,
      "outputs": [
        {
          "output_type": "stream",
          "name": "stdout",
          "text": [
            "x_train shape: (60000, 28, 28, 1)\n",
            "60000 train samples\n",
            "10000 test samples\n"
          ]
        }
      ]
    },
    {
      "cell_type": "markdown",
      "metadata": {
        "id": "QJpnckFcD79o"
      },
      "source": [
        "## Build the model"
      ]
    },
    {
      "cell_type": "code",
      "metadata": {
        "id": "m8vqKVwaD79o",
        "outputId": "0defa0c4-c3da-4ba8-8e0e-d9eee570df97",
        "colab": {
          "base_uri": "https://localhost:8080/"
        }
      },
      "source": [
        "# dropout setting = 0.5\n",
        "model_dropout5 = keras.Sequential(\n",
        "    [\n",
        "        keras.Input(shape=input_shape),\n",
        "        layers.Conv2D(32, kernel_size=(3, 3), activation=\"relu\"),\n",
        "        layers.MaxPooling2D(pool_size=(2, 2)),\n",
        "        layers.Conv2D(64, kernel_size=(3, 3), activation=\"relu\"),\n",
        "        layers.MaxPooling2D(pool_size=(2, 2)),\n",
        "        layers.Flatten(),\n",
        "        layers.Dropout(0.5),\n",
        "        layers.Dense(num_classes, activation=\"softmax\"),\n",
        "    ]\n",
        ")\n",
        "\n",
        "model_dropout5.compile(loss=\"categorical_crossentropy\", optimizer=\"adam\", metrics=[\"accuracy\"])\n",
        "\n",
        "drop5 = model_dropout5.fit(x_train, y_train, batch_size=batch_size, epochs=epochs, validation_split=0.1, workers=3)"
      ],
      "execution_count": 5,
      "outputs": [
        {
          "output_type": "stream",
          "name": "stdout",
          "text": [
            "Epoch 1/10\n",
            "422/422 [==============================] - 5s 10ms/step - loss: 0.3668 - accuracy: 0.8862 - val_loss: 0.0847 - val_accuracy: 0.9760\n",
            "Epoch 2/10\n",
            "422/422 [==============================] - 4s 9ms/step - loss: 0.1207 - accuracy: 0.9628 - val_loss: 0.0591 - val_accuracy: 0.9837\n",
            "Epoch 3/10\n",
            "422/422 [==============================] - 4s 9ms/step - loss: 0.0905 - accuracy: 0.9724 - val_loss: 0.0483 - val_accuracy: 0.9868\n",
            "Epoch 4/10\n",
            "422/422 [==============================] - 4s 9ms/step - loss: 0.0745 - accuracy: 0.9767 - val_loss: 0.0450 - val_accuracy: 0.9873\n",
            "Epoch 5/10\n",
            "422/422 [==============================] - 4s 9ms/step - loss: 0.0671 - accuracy: 0.9796 - val_loss: 0.0402 - val_accuracy: 0.9888\n",
            "Epoch 6/10\n",
            "422/422 [==============================] - 4s 9ms/step - loss: 0.0580 - accuracy: 0.9816 - val_loss: 0.0405 - val_accuracy: 0.9888\n",
            "Epoch 7/10\n",
            "422/422 [==============================] - 4s 9ms/step - loss: 0.0534 - accuracy: 0.9832 - val_loss: 0.0342 - val_accuracy: 0.9903\n",
            "Epoch 8/10\n",
            "422/422 [==============================] - 4s 9ms/step - loss: 0.0503 - accuracy: 0.9842 - val_loss: 0.0363 - val_accuracy: 0.9898\n",
            "Epoch 9/10\n",
            "422/422 [==============================] - 4s 9ms/step - loss: 0.0456 - accuracy: 0.9854 - val_loss: 0.0333 - val_accuracy: 0.9912\n",
            "Epoch 10/10\n",
            "422/422 [==============================] - 4s 9ms/step - loss: 0.0428 - accuracy: 0.9864 - val_loss: 0.0323 - val_accuracy: 0.9903\n"
          ]
        }
      ]
    },
    {
      "cell_type": "code",
      "metadata": {
        "id": "jXNdvNrIdfxP",
        "outputId": "43e00d5d-13a3-40f9-876a-59110a8aebfc",
        "colab": {
          "base_uri": "https://localhost:8080/"
        }
      },
      "source": [
        "# dropout setting = 0.2\n",
        "model_dropout2 = keras.Sequential(\n",
        "    [\n",
        "        keras.Input(shape=input_shape),\n",
        "        layers.Conv2D(32, kernel_size=(3, 3), activation=\"relu\"),\n",
        "        layers.MaxPooling2D(pool_size=(2, 2)),\n",
        "        layers.Conv2D(64, kernel_size=(3, 3), activation=\"relu\"),\n",
        "        layers.MaxPooling2D(pool_size=(2, 2)),\n",
        "        layers.Flatten(),\n",
        "        layers.Dropout(0.2),\n",
        "        layers.Dense(num_classes, activation=\"softmax\"),\n",
        "    ]\n",
        ")\n",
        "\n",
        "model_dropout2.compile(loss=\"categorical_crossentropy\", optimizer=\"adam\", metrics=[\"accuracy\"])\n",
        "\n",
        "drop2 = model_dropout2.fit(x_train, y_train, batch_size=batch_size, epochs=epochs, validation_split=0.1, workers=3)"
      ],
      "execution_count": 6,
      "outputs": [
        {
          "output_type": "stream",
          "name": "stdout",
          "text": [
            "Epoch 1/10\n",
            "422/422 [==============================] - 4s 9ms/step - loss: 0.3268 - accuracy: 0.9060 - val_loss: 0.0762 - val_accuracy: 0.9785\n",
            "Epoch 2/10\n",
            "422/422 [==============================] - 4s 9ms/step - loss: 0.0883 - accuracy: 0.9734 - val_loss: 0.0579 - val_accuracy: 0.9830\n",
            "Epoch 3/10\n",
            "422/422 [==============================] - 4s 9ms/step - loss: 0.0649 - accuracy: 0.9798 - val_loss: 0.0422 - val_accuracy: 0.9877\n",
            "Epoch 4/10\n",
            "422/422 [==============================] - 4s 8ms/step - loss: 0.0541 - accuracy: 0.9831 - val_loss: 0.0413 - val_accuracy: 0.9872\n",
            "Epoch 5/10\n",
            "422/422 [==============================] - 4s 8ms/step - loss: 0.0448 - accuracy: 0.9859 - val_loss: 0.0374 - val_accuracy: 0.9892\n",
            "Epoch 6/10\n",
            "422/422 [==============================] - 4s 9ms/step - loss: 0.0391 - accuracy: 0.9877 - val_loss: 0.0370 - val_accuracy: 0.9897\n",
            "Epoch 7/10\n",
            "422/422 [==============================] - 4s 9ms/step - loss: 0.0351 - accuracy: 0.9887 - val_loss: 0.0324 - val_accuracy: 0.9900\n",
            "Epoch 8/10\n",
            "422/422 [==============================] - 4s 9ms/step - loss: 0.0313 - accuracy: 0.9899 - val_loss: 0.0349 - val_accuracy: 0.9890\n",
            "Epoch 9/10\n",
            "422/422 [==============================] - 4s 9ms/step - loss: 0.0285 - accuracy: 0.9906 - val_loss: 0.0329 - val_accuracy: 0.9905\n",
            "Epoch 10/10\n",
            "422/422 [==============================] - 4s 8ms/step - loss: 0.0257 - accuracy: 0.9919 - val_loss: 0.0299 - val_accuracy: 0.9912\n"
          ]
        }
      ]
    },
    {
      "cell_type": "code",
      "metadata": {
        "id": "sKHjq8FGdenf",
        "outputId": "ff081be1-3f82-4646-b8eb-7570a4c93e41",
        "colab": {
          "base_uri": "https://localhost:8080/"
        }
      },
      "source": [
        "model_BN = keras.Sequential(\n",
        "    [\n",
        "        keras.Input(shape=input_shape),\n",
        "        layers.BatchNormalization(),\n",
        "        layers.Conv2D(32, kernel_size=(3, 3), activation=\"relu\"),\n",
        "        layers.MaxPooling2D(pool_size=(2, 2)),\n",
        "        layers.Conv2D(64, kernel_size=(3, 3), activation=\"relu\"),\n",
        "        layers.MaxPooling2D(pool_size=(2, 2)),\n",
        "        layers.Flatten(),\n",
        "        layers.Dense(num_classes, activation=\"softmax\"),\n",
        "    ]\n",
        ")\n",
        "\n",
        "model_BN.compile(loss=\"categorical_crossentropy\", optimizer=\"adam\", metrics=[\"accuracy\"])\n",
        "\n",
        "bn = model_BN.fit(x_train, y_train, batch_size=batch_size, epochs=epochs, validation_split=0.1, workers=3)"
      ],
      "execution_count": 7,
      "outputs": [
        {
          "output_type": "stream",
          "name": "stdout",
          "text": [
            "Epoch 1/10\n",
            "422/422 [==============================] - 5s 9ms/step - loss: 0.2279 - accuracy: 0.9342 - val_loss: 0.0696 - val_accuracy: 0.9808\n",
            "Epoch 2/10\n",
            "422/422 [==============================] - 4s 9ms/step - loss: 0.0636 - accuracy: 0.9806 - val_loss: 0.0467 - val_accuracy: 0.9877\n",
            "Epoch 3/10\n",
            "422/422 [==============================] - 4s 9ms/step - loss: 0.0467 - accuracy: 0.9856 - val_loss: 0.0465 - val_accuracy: 0.9855\n",
            "Epoch 4/10\n",
            "422/422 [==============================] - 4s 9ms/step - loss: 0.0368 - accuracy: 0.9886 - val_loss: 0.0430 - val_accuracy: 0.9870\n",
            "Epoch 5/10\n",
            "422/422 [==============================] - 4s 9ms/step - loss: 0.0294 - accuracy: 0.9907 - val_loss: 0.0391 - val_accuracy: 0.9885\n",
            "Epoch 6/10\n",
            "422/422 [==============================] - 4s 9ms/step - loss: 0.0250 - accuracy: 0.9921 - val_loss: 0.0367 - val_accuracy: 0.9898\n",
            "Epoch 7/10\n",
            "422/422 [==============================] - 4s 9ms/step - loss: 0.0202 - accuracy: 0.9934 - val_loss: 0.0435 - val_accuracy: 0.9877\n",
            "Epoch 8/10\n",
            "422/422 [==============================] - 4s 9ms/step - loss: 0.0170 - accuracy: 0.9946 - val_loss: 0.0485 - val_accuracy: 0.9873\n",
            "Epoch 9/10\n",
            "422/422 [==============================] - 4s 9ms/step - loss: 0.0133 - accuracy: 0.9956 - val_loss: 0.0443 - val_accuracy: 0.9893\n",
            "Epoch 10/10\n",
            "422/422 [==============================] - 4s 9ms/step - loss: 0.0133 - accuracy: 0.9957 - val_loss: 0.0441 - val_accuracy: 0.9897\n"
          ]
        }
      ]
    },
    {
      "cell_type": "markdown",
      "metadata": {
        "id": "J32jmEohD79p"
      },
      "source": [
        "## Show models accuracy"
      ]
    },
    {
      "cell_type": "code",
      "metadata": {
        "id": "mwmsmzfzD79p",
        "outputId": "3084d63e-17ce-4099-f268-63e605664e57",
        "colab": {
          "base_uri": "https://localhost:8080/",
          "height": 295
        }
      },
      "source": [
        "# 比較多種模型準確度\n",
        "from matplotlib import pyplot as plt\n",
        "plt.plot(drop5.history['val_accuracy'])\n",
        "plt.plot(drop2.history['val_accuracy'])\n",
        "plt.plot(bn.history['val_accuracy'])\n",
        "\n",
        "plt.title('Model accuracy')\n",
        "plt.ylabel('Validation Accuracy')\n",
        "plt.xlabel('Epoch')\n",
        "plt.legend(['Dropout with 0.5', 'Dropout with 0.2', 'BN'], loc='lower right')\n",
        "plt.grid(True)\n",
        "plt.show()"
      ],
      "execution_count": 10,
      "outputs": [
        {
          "output_type": "display_data",
          "data": {
            "image/png": "[encoded data removed]",
            "text/plain": [
              "<Figure size 432x288 with 1 Axes>"
            ]
          },
          "metadata": {
            "needs_background": "light"
          }
        }
      ]
    },
    {
      "cell_type": "code",
      "metadata": {
        "id": "YmuEUz_abG2G",
        "colab": {
          "base_uri": "https://localhost:8080/",
          "height": 295
        },
        "outputId": "94cde779-5c67-4cac-d660-e9a1014612fa"
      },
      "source": [
        "# 繪出每迭代的損失\n",
        "\n",
        "plt.plot(drop5.history['val_loss'])\n",
        "plt.plot(drop2.history['val_loss'])\n",
        "plt.plot(bn.history['val_loss'])\n",
        "\n",
        "plt.title('Model loss')\n",
        "plt.ylabel('Loss')\n",
        "plt.xlabel('Epoch')\n",
        "plt.legend(['Dropout with 0.5', 'Dropout with 0.2', 'BN'], loc='lower right')\n",
        "plt.grid(True)\n",
        "plt.show()"
      ],
      "execution_count": 11,
      "outputs": [
        {
          "output_type": "display_data",
          "data": {
            "image/png": "[encoded data removed]",
            "text/plain": [
              "<Figure size 432x288 with 1 Axes>"
            ]
          },
          "metadata": {
            "needs_background": "light"
          }
        }
      ]
    },
    {
      "cell_type": "markdown",
      "metadata": {
        "id": "kAVU7ZpeD79q"
      },
      "source": [
        "## Evaluate the trained model"
      ]
    },
    {
      "cell_type": "code",
      "metadata": {
        "id": "TVWCJaqtD79r"
      },
      "source": [
        "score = model.evaluate(x_test, y_test, verbose=0)\n",
        "print(\"Test loss:\", score[0])\n",
        "print(\"Test accuracy:\", score[1])"
      ],
      "execution_count": null,
      "outputs": []
    }
  ]
}