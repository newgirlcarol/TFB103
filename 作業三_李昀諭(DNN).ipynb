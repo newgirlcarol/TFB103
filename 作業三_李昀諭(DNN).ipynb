{
  "nbformat": 4,
  "nbformat_minor": 0,
  "metadata": {
    "kernelspec": {
      "display_name": "Python 3",
      "language": "python",
      "name": "python3"
    },
    "language_info": {
      "codemirror_mode": {
        "name": "ipython",
        "version": 3
      },
      "file_extension": ".py",
      "mimetype": "text/x-python",
      "name": "python",
      "nbconvert_exporter": "python",
      "pygments_lexer": "ipython3",
      "version": "3.7.3"
    },
    "colab": {
      "name": "作業三_李昀諭(DNN)",
      "provenance": [],
      "include_colab_link": true
    },
    "accelerator": "GPU"
  },
  "cells": [
    {
      "cell_type": "markdown",
      "metadata": {
        "id": "view-in-github",
        "colab_type": "text"
      },
      "source": [
        "<a href=\"https://colab.research.google.com/github/newgirlcarol/TFB103/blob/main/%E4%BD%9C%E6%A5%AD%E4%B8%89_%E6%9D%8E%E6%98%80%E8%AB%AD(DNN).ipynb\" target=\"_parent\"><img src=\"https://colab.research.google.com/assets/colab-badge.svg\" alt=\"Open In Colab\"/></a>"
      ]
    },
    {
      "cell_type": "code",
      "metadata": {
        "id": "EthoUofY4u6J"
      },
      "source": [
        "%matplotlib inline\n",
        "\n",
        "import numpy as np\n",
        "import matplotlib.pyplot as plt\n",
        "import pandas as pd"
      ],
      "execution_count": 1,
      "outputs": []
    },
    {
      "cell_type": "code",
      "metadata": {
        "id": "uxSLnOSH4u6O"
      },
      "source": [
        "from tensorflow.keras.utils import to_categorical # one-hot encoding\n",
        "from tensorflow.keras.models import Sequential #建每一層神經網路\n",
        "from tensorflow.keras.layers import Dense # fully connected層\n",
        "from tensorflow.keras.optimizers import SGD "
      ],
      "execution_count": 2,
      "outputs": []
    },
    {
      "cell_type": "markdown",
      "metadata": {
        "id": "kujuU_3S4u6O"
      },
      "source": [
        "### 1. 讀入 MNSIT 數據集"
      ]
    },
    {
      "cell_type": "code",
      "metadata": {
        "id": "vLIQnD9G4u6Q"
      },
      "source": [
        "from tensorflow.keras.datasets import mnist"
      ],
      "execution_count": 3,
      "outputs": []
    },
    {
      "cell_type": "code",
      "metadata": {
        "id": "BeX3OpFX4u6R"
      },
      "source": [
        "(x_train, y_train), (x_test, y_test) = mnist.load_data()"
      ],
      "execution_count": 4,
      "outputs": []
    },
    {
      "cell_type": "markdown",
      "metadata": {
        "id": "AGiqyKwG4u6R"
      },
      "source": [
        "#### 你也可以讀入 Fasion 版的 MNIST"
      ]
    },
    {
      "cell_type": "code",
      "metadata": {
        "id": "70mfvZE14u6S"
      },
      "source": [
        "# 服飾辨識類別\n",
        "# from tensorflow.keras.datasets import fashion_mnist\n",
        "# (x_train, y_train), (x_test, y_test) = fashion_mnist.load_data()"
      ],
      "execution_count": 5,
      "outputs": []
    },
    {
      "cell_type": "markdown",
      "metadata": {
        "id": "pbc56qbK4u6S"
      },
      "source": [
        "### 2. 欣賞數據集內容 (非執行必要)"
      ]
    },
    {
      "cell_type": "code",
      "metadata": {
        "id": "l3D94XG34u6T",
        "colab": {
          "base_uri": "https://localhost:8080/"
        },
        "outputId": "6a043a3a-f23a-46ed-c0ee-c89f4ca0413d"
      },
      "source": [
        "len(x_train)"
      ],
      "execution_count": 6,
      "outputs": [
        {
          "output_type": "execute_result",
          "data": {
            "text/plain": [
              "60000"
            ]
          },
          "metadata": {},
          "execution_count": 6
        }
      ]
    },
    {
      "cell_type": "code",
      "metadata": {
        "id": "BS7Fwz9J4u6U",
        "colab": {
          "base_uri": "https://localhost:8080/"
        },
        "outputId": "d295bf04-d22a-449b-9c94-7cac3f6b5493"
      },
      "source": [
        "len(x_test)"
      ],
      "execution_count": 7,
      "outputs": [
        {
          "output_type": "execute_result",
          "data": {
            "text/plain": [
              "10000"
            ]
          },
          "metadata": {},
          "execution_count": 7
        }
      ]
    },
    {
      "cell_type": "code",
      "metadata": {
        "id": "_FlXKszl4u6V"
      },
      "source": [
        "n = 9487"
      ],
      "execution_count": 8,
      "outputs": []
    },
    {
      "cell_type": "code",
      "metadata": {
        "id": "7dyKg-O74u6W",
        "colab": {
          "base_uri": "https://localhost:8080/"
        },
        "outputId": "97d43681-9266-446c-e475-6cdf3705d37c"
      },
      "source": [
        "x_train[n]  # 數字越大代表越黑"
      ],
      "execution_count": 9,
      "outputs": [
        {
          "output_type": "execute_result",
          "data": {
            "text/plain": [
              "array([[  0,   0,   0,   0,   0,   0,   0,   0,   0,   0,   0,   0,   0,\n",
              "          0,   0,   0,   0,   0,   0,   0,   0,   0,   0,   0,   0,   0,\n",
              "          0,   0],\n",
              "       [  0,   0,   0,   0,   0,   0,   0,   0,   0,   0,   0,   0,   0,\n",
              "          0,   0,   0,   0,   0,   0,   0,   0,   0,   0,   0,   0,   0,\n",
              "          0,   0],\n",
              "       [  0,   0,   0,   0,   0,   0,   0,   0,   0,   0,   0,   0,   0,\n",
              "          0,   0,   0,   0,   0,   0,   0,   0,   0,   0,   0,   0,   0,\n",
              "          0,   0],\n",
              "       [  0,   0,   0,   0,   0,   0,   0,   0,   0,   0,   0,   0,   0,\n",
              "          0,   0,   0,   0,   0,   0,   0,   0,   0,   0,   0,   0,   0,\n",
              "          0,   0],\n",
              "       [  0,   0,   0,   0,   0,   0,   0,   0,   0,   0,   0,   0, 240,\n",
              "        253, 165,   0,   0,   0,   0,   0,   0,   0,   0,   0,   0,   0,\n",
              "          0,   0],\n",
              "       [  0,   0,   0,   0,   0,   0,   0,   0,   0,   0,   0,  32, 241,\n",
              "        252, 252,   0,   0,   0,   0,   0,   0,   0,   0,   0,   0,   0,\n",
              "          0,   0],\n",
              "       [  0,   0,   0,   0,   0,   0,   0,   0,   0,   0,   2, 141, 252,\n",
              "        252, 252,  98,   0,   0,   0,   0,   0,   0,   0,   0,   0,   0,\n",
              "          0,   0],\n",
              "       [  0,   0,   0,   0,   0,   0,   0,   0,   0,   0,  30, 252, 252,\n",
              "        252, 252, 149,   0,   0,   0,   0,   0,   0,   0,   0,   0,   0,\n",
              "          0,   0],\n",
              "       [  0,   0,   0,   0,   0,   0,   0,   0,   0,   0,  21, 217, 252,\n",
              "        252, 252, 149,   0,   0,   0,   0,   0,   0,   0,   0,   0,   0,\n",
              "          0,   0],\n",
              "       [  0,   0,   0,   0,   0,   0,   0,   0,   0,   0,   0, 134, 252,\n",
              "        252, 252, 223,  31,   0,   0,   0,   0,   0,   0,   0,   0,   0,\n",
              "          0,   0],\n",
              "       [  0,   0,   0,   0,   0,   0,   0,   0,   0,   0,   0, 134, 252,\n",
              "        252, 252, 253,  44,   0,   0,   0,   0,   0,   0,   0,   0,   0,\n",
              "          0,   0],\n",
              "       [  0,   0,   0,   0,   0,   0,   0,   0,   0,   0,   0,   8, 239,\n",
              "        252, 252, 253,  44,   0,   0,   0,   0,   0,   0,   0,   0,   0,\n",
              "          0,   0],\n",
              "       [  0,   0,   0,   0,   0,   0,   0,   0,   0,   0,   0,   0, 238,\n",
              "        252, 252, 253,  44,   0,   0,   0,   0,   0,   0,   0,   0,   0,\n",
              "          0,   0],\n",
              "       [  0,   0,   0,   0,   0,   0,   0,   0,   0,   0,   0,   0, 238,\n",
              "        252, 252, 253,  44,   0,   0,   0,   0,   0,   0,   0,   0,   0,\n",
              "          0,   0],\n",
              "       [  0,   0,   0,   0,   0,   0,   0,   0,   0,   0,   0,   0, 178,\n",
              "        253, 253, 255, 106,   0,   0,   0,   0,   0,   0,   0,   0,   0,\n",
              "          0,   0],\n",
              "       [  0,   0,   0,   0,   0,   0,   0,   0,   0,   0,   0,   0,  90,\n",
              "        252, 252, 253, 206,  21,   0,   0,   0,   0,   0,   0,   0,   0,\n",
              "          0,   0],\n",
              "       [  0,   0,   0,   0,   0,   0,   0,   0,   0,   0,   0,   0,  90,\n",
              "        252, 252, 253, 252,  88,   0,   0,   0,   0,   0,   0,   0,   0,\n",
              "          0,   0],\n",
              "       [  0,   0,   0,   0,   0,   0,   0,   0,   0,   0,   0,   0,  90,\n",
              "        252, 252, 253, 252,  88,   0,   0,   0,   0,   0,   0,   0,   0,\n",
              "          0,   0],\n",
              "       [  0,   0,   0,   0,   0,   0,   0,   0,   0,   0,   0,   0,  63,\n",
              "        234, 252, 253, 252, 220,   0,   0,   0,   0,   0,   0,   0,   0,\n",
              "          0,   0],\n",
              "       [  0,   0,   0,   0,   0,   0,   0,   0,   0,   0,   0,   0,   0,\n",
              "        176, 252, 253, 252, 237,   0,   0,   0,   0,   0,   0,   0,   0,\n",
              "          0,   0],\n",
              "       [  0,   0,   0,   0,   0,   0,   0,   0,   0,   0,   0,   0,   0,\n",
              "         45, 252, 253, 252, 245,  71,   0,   0,   0,   0,   0,   0,   0,\n",
              "          0,   0],\n",
              "       [  0,   0,   0,   0,   0,   0,   0,   0,   0,   0,   0,   0,   0,\n",
              "         29, 215, 253, 252, 237,   8,   0,   0,   0,   0,   0,   0,   0,\n",
              "          0,   0],\n",
              "       [  0,   0,   0,   0,   0,   0,   0,   0,   0,   0,   0,   0,   0,\n",
              "          0, 149, 253, 252, 237,   0,   0,   0,   0,   0,   0,   0,   0,\n",
              "          0,   0],\n",
              "       [  0,   0,   0,   0,   0,   0,   0,   0,   0,   0,   0,   0,   0,\n",
              "          0,  61, 165, 252, 237,   0,   0,   0,   0,   0,   0,   0,   0,\n",
              "          0,   0],\n",
              "       [  0,   0,   0,   0,   0,   0,   0,   0,   0,   0,   0,   0,   0,\n",
              "          0,   0,   0,   0,   0,   0,   0,   0,   0,   0,   0,   0,   0,\n",
              "          0,   0],\n",
              "       [  0,   0,   0,   0,   0,   0,   0,   0,   0,   0,   0,   0,   0,\n",
              "          0,   0,   0,   0,   0,   0,   0,   0,   0,   0,   0,   0,   0,\n",
              "          0,   0],\n",
              "       [  0,   0,   0,   0,   0,   0,   0,   0,   0,   0,   0,   0,   0,\n",
              "          0,   0,   0,   0,   0,   0,   0,   0,   0,   0,   0,   0,   0,\n",
              "          0,   0],\n",
              "       [  0,   0,   0,   0,   0,   0,   0,   0,   0,   0,   0,   0,   0,\n",
              "          0,   0,   0,   0,   0,   0,   0,   0,   0,   0,   0,   0,   0,\n",
              "          0,   0]], dtype=uint8)"
            ]
          },
          "metadata": {},
          "execution_count": 9
        }
      ]
    },
    {
      "cell_type": "code",
      "metadata": {
        "id": "mRwiMhd_4u6W",
        "colab": {
          "base_uri": "https://localhost:8080/"
        },
        "outputId": "80688d77-87b3-41f7-e03d-4fd1f9d20915"
      },
      "source": [
        "y_train[n]"
      ],
      "execution_count": 10,
      "outputs": [
        {
          "output_type": "execute_result",
          "data": {
            "text/plain": [
              "1"
            ]
          },
          "metadata": {},
          "execution_count": 10
        }
      ]
    },
    {
      "cell_type": "code",
      "metadata": {
        "id": "AaI9dHUM4u6W",
        "colab": {
          "base_uri": "https://localhost:8080/",
          "height": 283
        },
        "outputId": "a7ca3631-580c-4d50-efdd-42667926b7f2"
      },
      "source": [
        "plt.imshow(x_train[n], cmap='Greys')"
      ],
      "execution_count": 11,
      "outputs": [
        {
          "output_type": "execute_result",
          "data": {
            "text/plain": [
              "<matplotlib.image.AxesImage at 0x7f7c6d548590>"
            ]
          },
          "metadata": {},
          "execution_count": 11
        },
        {
          "output_type": "display_data",
          "data": {
            "image/png": "[encoded data removed]",
            "text/plain": [
              "<Figure size 432x288 with 1 Axes>"
            ]
          },
          "metadata": {
            "needs_background": "light"
          }
        }
      ]
    },
    {
      "cell_type": "markdown",
      "metadata": {
        "id": "EGRUQLWo4u6X"
      },
      "source": [
        "### 3. 資料整理"
      ]
    },
    {
      "cell_type": "markdown",
      "metadata": {
        "id": "b-y0Cpha4u6X"
      },
      "source": [
        "先看個範例, 因為 `numpy` 「廣播」的特性, 我們對 `array` 中所有數字要同除以一個數可瞬間完成!"
      ]
    },
    {
      "cell_type": "code",
      "metadata": {
        "id": "f4BErTdZ4u6X"
      },
      "source": [
        "# 除以 255 是為了將數字控制在0 ~1 之間\n",
        "x_train = x_train.reshape(60000, 784)/255\n",
        "x_test = x_test.reshape(10000, 784)/255"
      ],
      "execution_count": 12,
      "outputs": []
    },
    {
      "cell_type": "code",
      "metadata": {
        "id": "iUFRJwWW4u6Y"
      },
      "source": [
        "# 作 one-hot encoding\n",
        "y_train = to_categorical(y_train, 10)\n",
        "y_test = to_categorical(y_test, 10)"
      ],
      "execution_count": 13,
      "outputs": []
    },
    {
      "cell_type": "code",
      "metadata": {
        "colab": {
          "base_uri": "https://localhost:8080/"
        },
        "id": "nL85PZfT-NRB",
        "outputId": "ce855bcd-551c-4970-ea0b-36d90f10373f"
      },
      "source": [
        "y_train[n]"
      ],
      "execution_count": 14,
      "outputs": [
        {
          "output_type": "execute_result",
          "data": {
            "text/plain": [
              "array([0., 1., 0., 0., 0., 0., 0., 0., 0., 0.], dtype=float32)"
            ]
          },
          "metadata": {},
          "execution_count": 14
        }
      ]
    },
    {
      "cell_type": "markdown",
      "metadata": {
        "id": "CmZNTGU94u6Y"
      },
      "source": [
        "### 4. step 1: 打造神經網路\n",
        "輸入: 784 (28x28)維向量 \\\n",
        "輸出: 10 維向量(辨識0-9數字)"
      ]
    },
    {
      "cell_type": "markdown",
      "metadata": {
        "id": "-hsC8CPDINdy"
      },
      "source": [
        "> 調整參數測試:\n",
        "  * 增加一層 Dense，100個神經元，epoch=20 >> accuracy = 0.94\n",
        "  * 改 sigmoidㄝ,其餘參數不變 >> accuracy = 0.14\n",
        "  * 神經元調到 200 個，epoch = 10 >> accuracy = 0.92 \n",
        "  * loss改為mae，其餘參數不變 >> accuracy = 0.76\n",
        "  * final: 增加一層Dense，50個神經元，mse, epoch =15 >> accuracy = 0.92"
      ]
    },
    {
      "cell_type": "code",
      "metadata": {
        "id": "d9elCg2B4u6Y"
      },
      "source": [
        "model = Sequential()"
      ],
      "execution_count": 15,
      "outputs": []
    },
    {
      "cell_type": "code",
      "metadata": {
        "id": "-SvYWwbS4u6Y"
      },
      "source": [
        "model.add(Dense(50, input_dim=784, activation='relu'))"
      ],
      "execution_count": 16,
      "outputs": []
    },
    {
      "cell_type": "code",
      "metadata": {
        "id": "sgYT5opo_p5u"
      },
      "source": [
        "model.add(Dense(50, activation='relu'))"
      ],
      "execution_count": 17,
      "outputs": []
    },
    {
      "cell_type": "code",
      "metadata": {
        "id": "tLkm7hED4u6Z"
      },
      "source": [
        "model.add(Dense(50, activation='relu'))"
      ],
      "execution_count": 18,
      "outputs": []
    },
    {
      "cell_type": "code",
      "metadata": {
        "id": "3biH4oArJ4ex"
      },
      "source": [
        "model.add(Dense(50, activation='relu'))"
      ],
      "execution_count": 19,
      "outputs": []
    },
    {
      "cell_type": "code",
      "metadata": {
        "id": "_YdXwvgP4u6Z"
      },
      "source": [
        "model.add(Dense(10, activation='softmax'))"
      ],
      "execution_count": 20,
      "outputs": []
    },
    {
      "cell_type": "markdown",
      "metadata": {
        "id": "KRbiaECk4u6Z"
      },
      "source": [
        "#### 組裝我們的神經網路"
      ]
    },
    {
      "cell_type": "code",
      "metadata": {
        "id": "xchfSoa-4u6Z",
        "colab": {
          "base_uri": "https://localhost:8080/"
        },
        "outputId": "0bb5ff92-2b2f-45f8-8f6d-b2b24fc56d18"
      },
      "source": [
        "model.compile(loss='mse', optimizer=SGD(lr=0.087), \n",
        "              metrics=['accuracy'])"
      ],
      "execution_count": 21,
      "outputs": [
        {
          "output_type": "stream",
          "name": "stderr",
          "text": [
            "/usr/local/lib/python3.7/dist-packages/keras/optimizer_v2/optimizer_v2.py:356: UserWarning: The `lr` argument is deprecated, use `learning_rate` instead.\n",
            "  \"The `lr` argument is deprecated, use `learning_rate` instead.\")\n"
          ]
        }
      ]
    },
    {
      "cell_type": "markdown",
      "metadata": {
        "id": "KcbF7ial4u6a"
      },
      "source": [
        "#### 欣賞我們的作品"
      ]
    },
    {
      "cell_type": "code",
      "metadata": {
        "id": "_lJPt4id4u6a",
        "colab": {
          "base_uri": "https://localhost:8080/"
        },
        "outputId": "0699aa6a-00a0-48e5-a589-507adc557e34"
      },
      "source": [
        "model.summary()"
      ],
      "execution_count": 22,
      "outputs": [
        {
          "output_type": "stream",
          "name": "stdout",
          "text": [
            "Model: \"sequential\"\n",
            "_________________________________________________________________\n",
            "Layer (type)                 Output Shape              Param #   \n",
            "=================================================================\n",
            "dense (Dense)                (None, 50)                39250     \n",
            "_________________________________________________________________\n",
            "dense_1 (Dense)              (None, 50)                2550      \n",
            "_________________________________________________________________\n",
            "dense_2 (Dense)              (None, 50)                2550      \n",
            "_________________________________________________________________\n",
            "dense_3 (Dense)              (None, 50)                2550      \n",
            "_________________________________________________________________\n",
            "dense_4 (Dense)              (None, 10)                510       \n",
            "=================================================================\n",
            "Total params: 47,410\n",
            "Trainable params: 47,410\n",
            "Non-trainable params: 0\n",
            "_________________________________________________________________\n"
          ]
        }
      ]
    },
    {
      "cell_type": "markdown",
      "metadata": {
        "id": "V76XU7vS4u6a"
      },
      "source": [
        "### 5. step 2: 訓練"
      ]
    },
    {
      "cell_type": "code",
      "metadata": {
        "scrolled": true,
        "id": "RqQh149Q4u6g",
        "colab": {
          "base_uri": "https://localhost:8080/"
        },
        "outputId": "bd7cbc61-fb9e-4d5d-9cf2-33a3c952afd2"
      },
      "source": [
        "model.fit(x_train, y_train, batch_size=100, epochs=15)"
      ],
      "execution_count": 23,
      "outputs": [
        {
          "output_type": "stream",
          "name": "stdout",
          "text": [
            "Epoch 1/15\n",
            "600/600 [==============================] - 2s 3ms/step - loss: 0.0896 - accuracy: 0.1244\n",
            "Epoch 2/15\n",
            "600/600 [==============================] - 2s 3ms/step - loss: 0.0862 - accuracy: 0.2913\n",
            "Epoch 3/15\n",
            "600/600 [==============================] - 2s 3ms/step - loss: 0.0725 - accuracy: 0.4615\n",
            "Epoch 4/15\n",
            "600/600 [==============================] - 2s 3ms/step - loss: 0.0473 - accuracy: 0.6718\n",
            "Epoch 5/15\n",
            "600/600 [==============================] - 2s 3ms/step - loss: 0.0286 - accuracy: 0.8208\n",
            "Epoch 6/15\n",
            "600/600 [==============================] - 2s 3ms/step - loss: 0.0212 - accuracy: 0.8655\n",
            "Epoch 7/15\n",
            "600/600 [==============================] - 2s 3ms/step - loss: 0.0182 - accuracy: 0.8837\n",
            "Epoch 8/15\n",
            "600/600 [==============================] - 2s 3ms/step - loss: 0.0165 - accuracy: 0.8935\n",
            "Epoch 9/15\n",
            "600/600 [==============================] - 2s 3ms/step - loss: 0.0153 - accuracy: 0.9011\n",
            "Epoch 10/15\n",
            "600/600 [==============================] - 2s 3ms/step - loss: 0.0145 - accuracy: 0.9064\n",
            "Epoch 11/15\n",
            "600/600 [==============================] - 2s 3ms/step - loss: 0.0137 - accuracy: 0.9112\n",
            "Epoch 12/15\n",
            "600/600 [==============================] - 2s 3ms/step - loss: 0.0131 - accuracy: 0.9151\n",
            "Epoch 13/15\n",
            "600/600 [==============================] - 2s 3ms/step - loss: 0.0126 - accuracy: 0.9183\n",
            "Epoch 14/15\n",
            "600/600 [==============================] - 2s 3ms/step - loss: 0.0122 - accuracy: 0.9216\n",
            "Epoch 15/15\n",
            "600/600 [==============================] - 2s 3ms/step - loss: 0.0117 - accuracy: 0.9238\n"
          ]
        },
        {
          "output_type": "execute_result",
          "data": {
            "text/plain": [
              "<keras.callbacks.History at 0x7f7c601a2750>"
            ]
          },
          "metadata": {},
          "execution_count": 23
        }
      ]
    },
    {
      "cell_type": "markdown",
      "metadata": {
        "id": "Bt6iBEUJ4u6g"
      },
      "source": [
        "### 6. step 3: 預測 (testing)"
      ]
    },
    {
      "cell_type": "code",
      "metadata": {
        "id": "1Et6-95T4u6g"
      },
      "source": [
        "predict_x = model.predict(x_test)\n",
        "classes_x=np.argmax(predict_x,axis=1)"
      ],
      "execution_count": 24,
      "outputs": []
    },
    {
      "cell_type": "code",
      "metadata": {
        "id": "NULZk3v_4u6g",
        "colab": {
          "base_uri": "https://localhost:8080/",
          "height": 283
        },
        "outputId": "85aab1cc-3ac3-4801-a759-6f9c669b9a7d"
      },
      "source": [
        "n = 8888\n",
        "\n",
        "print('神經網路預測是:', classes_x[n])\n",
        "plt.imshow(x_test[n].reshape(28,28), cmap='Greys');"
      ],
      "execution_count": 27,
      "outputs": [
        {
          "output_type": "stream",
          "name": "stdout",
          "text": [
            "神經網路預測是: 6\n"
          ]
        },
        {
          "output_type": "display_data",
          "data": {
            "image/png": "[encoded data removed]",
            "text/plain": [
              "<Figure size 432x288 with 1 Axes>"
            ]
          },
          "metadata": {
            "needs_background": "light"
          }
        }
      ]
    },
    {
      "cell_type": "markdown",
      "metadata": {
        "id": "zgev5nNZ4u6h"
      },
      "source": [
        "### 7. 儲存我們的 model"
      ]
    },
    {
      "cell_type": "code",
      "metadata": {
        "id": "p17WbBRj4u6i"
      },
      "source": [
        "model.save(\"my_nn.h5\")"
      ],
      "execution_count": 26,
      "outputs": []
    }
  ]
}